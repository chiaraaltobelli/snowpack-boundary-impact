{
 "cells": [
  {
   "cell_type": "code",
   "execution_count": null,
   "metadata": {
    "vscode": {
     "languageId": "plaintext"
    }
   },
   "outputs": [],
   "source": [
    "import matplotlib.pyplot as plt\n",
    "import geopandas as gpd\n",
    "\n",
    "def load_idaho_boundary(shapefile_path):\n",
    "    states = gpd.read_file(shapefile_path)\n",
    "    return states[states['NAME'] == 'Idaho']\n",
    "\n",
    "def plot_with_idaho_overlay(data, lons, lats, idaho, title, cmap, label, vmin=None, vmax=None):\n",
    "    plt.figure(figsize=(10, 6))\n",
    "    im = plt.imshow(\n",
    "        data,\n",
    "        cmap=cmap,\n",
    "        origin=\"lower\",\n",
    "        vmin=vmin,\n",
    "        vmax=vmax,\n",
    "        extent=[lons.min(), lons.max(), lats.min(), lats.max()]\n",
    "    )\n",
    "    plt.colorbar(im, label=label)\n",
    "    idaho.boundary.plot(ax=plt.gca(), color=\"black\", linewidth=1)\n",
    "    plt.title(title)\n",
    "    plt.xlabel(\"Longitude\")\n",
    "    plt.ylabel(\"Latitude\")\n",
    "    plt.tight_layout()\n",
    "    plt.show()\n"
   ]
  },
  {
   "cell_type": "markdown",
   "metadata": {},
   "source": []
  }
 ],
 "metadata": {
  "language_info": {
   "name": "python"
  }
 },
 "nbformat": 4,
 "nbformat_minor": 2
}
